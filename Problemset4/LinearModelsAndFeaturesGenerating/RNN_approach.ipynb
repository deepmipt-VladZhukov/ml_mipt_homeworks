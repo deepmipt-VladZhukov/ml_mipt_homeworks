{
 "cells": [
  {
   "cell_type": "code",
   "execution_count": 303,
   "metadata": {
    "collapsed": false
   },
   "outputs": [],
   "source": [
    "from sklearn.metrics import roc_auc_score\n",
    "from matplotlib import pyplot as plt\n",
    "import numpy as np\n",
    "from keras.models import Sequential\n",
    "from keras.layers import LSTM, GRU, Dense, Activation, Input\n",
    "from keras.optimizers import RMSprop\n",
    "from sklearn.linear_model import LogisticRegression\n",
    "%matplotlib inline"
   ]
  },
  {
   "cell_type": "code",
   "execution_count": 2,
   "metadata": {
    "collapsed": true
   },
   "outputs": [],
   "source": [
    "PADDING = 25"
   ]
  },
  {
   "cell_type": "code",
   "execution_count": 3,
   "metadata": {
    "collapsed": true
   },
   "outputs": [],
   "source": [
    "def padding(res_len, x):\n",
    "    return '#' * (res_len - len(x)) + x"
   ]
  },
  {
   "cell_type": "code",
   "execution_count": 175,
   "metadata": {
    "collapsed": true
   },
   "outputs": [],
   "source": [
    "def cutting(max_len, x): \n",
    "    # rework to cut from begin, not from the end! (however, it's mb not neccesary beacause all long words are zeros)\n",
    "    return x if len(x) <= max_len else x[:max_len]"
   ]
  },
  {
   "cell_type": "code",
   "execution_count": 190,
   "metadata": {
    "collapsed": true
   },
   "outputs": [],
   "source": [
    "def create_output(res, out_f):\n",
    "    with open(out_f, mode='w') as out:\n",
    "        out.write('Id,Answer\\n')\n",
    "        for i, o in enumerate(res):\n",
    "            out.write(str(i) + ',' + str(o) + '\\n')"
   ]
  },
  {
   "cell_type": "code",
   "execution_count": 52,
   "metadata": {
    "collapsed": false
   },
   "outputs": [],
   "source": [
    "X_text = []\n",
    "y_text = []\n",
    "all_text = \"\"\n",
    "word_lens = []\n",
    "with open('Data/linear_train.txt') as f:\n",
    "    for line in f:\n",
    "        splited_line = line.split()\n",
    "        text = splited_line[0].strip(',').lower()\n",
    "        X_text.append(padding(PADDING, text))\n",
    "        y_text.append(int(splited_line[-1]))\n",
    "        all_text+=padding(PADDING, text)\n",
    "        word_lens.append(len(text))"
   ]
  },
  {
   "cell_type": "code",
   "execution_count": 53,
   "metadata": {
    "collapsed": false
   },
   "outputs": [
    {
     "name": "stdout",
     "output_type": "stream",
     "text": [
      "25\n"
     ]
    },
    {
     "data": {
      "text/plain": [
       "(array([  1.45300000e+03,   1.30400000e+04,   4.21390000e+04,\n",
       "          2.25870000e+04,   1.29720000e+04,   7.41000000e+03,\n",
       "          1.27700000e+03,   4.82000000e+02,   4.10000000e+01,\n",
       "          7.00000000e+00]),\n",
       " array([  1. ,   3.4,   5.8,   8.2,  10.6,  13. ,  15.4,  17.8,  20.2,\n",
       "         22.6,  25. ]),\n",
       " <a list of 10 Patch objects>)"
      ]
     },
     "execution_count": 53,
     "metadata": {},
     "output_type": "execute_result"
    },
    {
     "data": {
      "image/png": "[encoded data removed]",
      "text/plain": [
       "<matplotlib.figure.Figure at 0x113698dd8>"
      ]
     },
     "metadata": {},
     "output_type": "display_data"
    }
   ],
   "source": [
    "print(max(word_lens))\n",
    "plt.hist(word_lens)"
   ]
  },
  {
   "cell_type": "code",
   "execution_count": 54,
   "metadata": {
    "collapsed": false
   },
   "outputs": [],
   "source": [
    "chars = sorted(list(set(all_text)))"
   ]
  },
  {
   "cell_type": "code",
   "execution_count": 55,
   "metadata": {
    "collapsed": false
   },
   "outputs": [],
   "source": [
    "char_indices = dict((c, i) for i, c in enumerate(chars))\n",
    "indices_char = dict((i, c) for i, c in enumerate(chars))"
   ]
  },
  {
   "cell_type": "code",
   "execution_count": 56,
   "metadata": {
    "collapsed": false
   },
   "outputs": [],
   "source": [
    "X = np.zeros((len(X_text), PADDING, len(chars)), dtype=np.bool)\n",
    "y = np.zeros((len(X_text), 2), dtype=np.int)"
   ]
  },
  {
   "cell_type": "code",
   "execution_count": 57,
   "metadata": {
    "collapsed": false
   },
   "outputs": [],
   "source": [
    "for i, sentence in enumerate(X_text):\n",
    "    for t, char in enumerate(sentence):\n",
    "        X[i, t, char_indices[char]] = 1\n",
    "    y[i, y_text[i]] = 1"
   ]
  },
  {
   "cell_type": "markdown",
   "metadata": {},
   "source": [
    "# Linear Model Approach"
   ]
  },
  {
   "cell_type": "code",
   "execution_count": 64,
   "metadata": {
    "collapsed": false
   },
   "outputs": [
    {
     "data": {
      "text/plain": [
       "LogisticRegression(C=1.0, class_weight=None, dual=False, fit_intercept=True,\n",
       "          intercept_scaling=1, max_iter=100, multi_class='ovr', n_jobs=1,\n",
       "          penalty='l2', random_state=None, solver='liblinear', tol=0.0001,\n",
       "          verbose=0, warm_start=False)"
      ]
     },
     "execution_count": 64,
     "metadata": {},
     "output_type": "execute_result"
    }
   ],
   "source": [
    "sk_model = LogisticRegression()\n",
    "sk_model.fit(X.reshape(len(X_text), PADDING * len(chars)), y_text)"
   ]
  },
  {
   "cell_type": "markdown",
   "metadata": {},
   "source": [
    "score on train"
   ]
  },
  {
   "cell_type": "code",
   "execution_count": 75,
   "metadata": {
    "collapsed": false
   },
   "outputs": [
    {
     "data": {
      "text/plain": [
       "0.82072705479842889"
      ]
     },
     "execution_count": 75,
     "metadata": {},
     "output_type": "execute_result"
    }
   ],
   "source": [
    "roc_auc_score(y_text, sk_model.predict_proba(X.reshape(len(X_text), PADDING * len(chars)))[:,1])"
   ]
  },
  {
   "cell_type": "code",
   "execution_count": 174,
   "metadata": {
    "collapsed": false
   },
   "outputs": [],
   "source": [
    "X_test_text = []\n",
    "with open('Data/linear_test.txt') as f:\n",
    "    for l in f:\n",
    "        delete_chars = 'á &“7`ë0«»\"ô1'\n",
    "        line = l.strip().strip('\\ufeff').replace('\\\\', '').replace('\\xa0', '')\n",
    "        for d_c in delete_chars:\n",
    "            line = line.replace(d_c, '')\n",
    "        line = padding(PADDING,cutting(PADDING, line))\n",
    "        X_test_text.append(line.lower())"
   ]
  },
  {
   "cell_type": "code",
   "execution_count": 176,
   "metadata": {
    "collapsed": true
   },
   "outputs": [],
   "source": [
    "X_test = np.zeros((len(X_test_text), PADDING, len(chars)), dtype=np.bool)"
   ]
  },
  {
   "cell_type": "code",
   "execution_count": 177,
   "metadata": {
    "collapsed": false
   },
   "outputs": [],
   "source": [
    "for i, sentence in enumerate(X_test_text):\n",
    "    for t, char in enumerate(sentence):\n",
    "        X_test[i, t, char_indices[char]] = 1"
   ]
  },
  {
   "cell_type": "code",
   "execution_count": 185,
   "metadata": {
    "collapsed": false
   },
   "outputs": [],
   "source": [
    "lr_res = sk_model.predict_proba(X_test.reshape(len(X_test), PADDING * len(chars)))[:, 1]"
   ]
  },
  {
   "cell_type": "code",
   "execution_count": 192,
   "metadata": {
    "collapsed": false
   },
   "outputs": [],
   "source": [
    "create_output(lr_res, 'linear_output.txt')"
   ]
  },
  {
   "cell_type": "markdown",
   "metadata": {},
   "source": [
    "# Dense"
   ]
  },
  {
   "cell_type": "code",
   "execution_count": 261,
   "metadata": {
    "collapsed": false
   },
   "outputs": [],
   "source": [
    "model = Sequential()\n",
    "model.add(Dense(input_dim=PADDING * len(chars), output_dim=64, activation='relu'))\n",
    "model.add(Dense(output_dim=32, activation='relu'))\n",
    "model.add(Dense(output_dim=16, activation='relu'))\n",
    "model.add(Dense(2))\n",
    "model.add(Activation('softmax'))\n",
    "\n",
    "optimizer = RMSprop(lr=0.01)\n",
    "model.compile(loss='categorical_crossentropy', optimizer=optimizer)"
   ]
  },
  {
   "cell_type": "code",
   "execution_count": 262,
   "metadata": {
    "collapsed": false
   },
   "outputs": [
    {
     "name": "stdout",
     "output_type": "stream",
     "text": [
      "Epoch 1/10\n",
      "101408/101408 [==============================] - 11s - loss: 0.2867    \n",
      "Epoch 2/10\n",
      "101408/101408 [==============================] - 10s - loss: 0.2728    \n",
      "Epoch 3/10\n",
      "101408/101408 [==============================] - 10s - loss: 0.2727    \n",
      "Epoch 4/10\n",
      "101408/101408 [==============================] - 10s - loss: 0.2914    \n",
      "Epoch 5/10\n",
      "101408/101408 [==============================] - 10s - loss: 0.3056    \n",
      "Epoch 6/10\n",
      "101408/101408 [==============================] - 10s - loss: 0.3168    \n",
      "Epoch 7/10\n",
      "101408/101408 [==============================] - 11s - loss: 0.2981    \n",
      "Epoch 8/10\n",
      "101408/101408 [==============================] - 11s - loss: 0.3157    \n",
      "Epoch 9/10\n",
      "101408/101408 [==============================] - 11s - loss: 0.3344    \n",
      "Epoch 10/10\n",
      "101408/101408 [==============================] - 11s - loss: 0.3645    \n"
     ]
    },
    {
     "data": {
      "text/plain": [
       "<keras.callbacks.History at 0x13541c7f0>"
      ]
     },
     "execution_count": 262,
     "metadata": {},
     "output_type": "execute_result"
    }
   ],
   "source": [
    "model.fit(X.reshape(len(X_text), PADDING * len(chars)), y)"
   ]
  },
  {
   "cell_type": "code",
   "execution_count": 263,
   "metadata": {
    "collapsed": false
   },
   "outputs": [
    {
     "data": {
      "text/plain": [
       "0.82845795470529204"
      ]
     },
     "execution_count": 263,
     "metadata": {},
     "output_type": "execute_result"
    }
   ],
   "source": [
    "roc_auc_score(y_text, model.predict(X.reshape(len(X_text), PADDING * len(chars)))[:,1])"
   ]
  },
  {
   "cell_type": "markdown",
   "metadata": {},
   "source": [
    "# Simple RNN, LSTM, GRU\n",
    "fix to gru or rnn (less parameters number)"
   ]
  },
  {
   "cell_type": "code",
   "execution_count": 304,
   "metadata": {
    "collapsed": false
   },
   "outputs": [],
   "source": [
    "model = Sequential()\n",
    "model.add(GRU(32, input_shape=(PADDING, len(chars))))\n",
    "model.add(Dense(2))\n",
    "model.add(Activation('softmax'))\n",
    "\n",
    "optimizer = RMSprop(lr=0.01)\n",
    "model.compile(loss='categorical_crossentropy', optimizer=optimizer)"
   ]
  },
  {
   "cell_type": "code",
   "execution_count": 305,
   "metadata": {
    "collapsed": false,
    "scrolled": false
   },
   "outputs": [
    {
     "name": "stdout",
     "output_type": "stream",
     "text": [
      "Epoch 1/1\n",
      "101408/101408 [==============================] - 159s - loss: 0.2560   \n"
     ]
    },
    {
     "data": {
      "text/plain": [
       "<keras.callbacks.History at 0x141fdb358>"
      ]
     },
     "execution_count": 305,
     "metadata": {},
     "output_type": "execute_result"
    }
   ],
   "source": [
    "model.fit(X, np.array(y), nb_epoch=1)"
   ]
  },
  {
   "cell_type": "code",
   "execution_count": 306,
   "metadata": {
    "collapsed": false
   },
   "outputs": [
    {
     "data": {
      "text/plain": [
       "0.86587267323291162"
      ]
     },
     "execution_count": 306,
     "metadata": {},
     "output_type": "execute_result"
    }
   ],
   "source": [
    "roc_auc_score(y_text, model.predict(X)[:,1])"
   ]
  },
  {
   "cell_type": "code",
   "execution_count": 300,
   "metadata": {
    "collapsed": false
   },
   "outputs": [],
   "source": [
    "lstm_res = model.predict(X_test)"
   ]
  },
  {
   "cell_type": "code",
   "execution_count": 301,
   "metadata": {
    "collapsed": false
   },
   "outputs": [
    {
     "data": {
      "text/plain": [
       "array([ 0.21837008,  0.19378947,  0.27904779, ...,  0.02553153,\n",
       "        0.00136087,  0.00304305], dtype=float32)"
      ]
     },
     "execution_count": 301,
     "metadata": {},
     "output_type": "execute_result"
    }
   ],
   "source": [
    "lstm_res[:, 1]"
   ]
  },
  {
   "cell_type": "code",
   "execution_count": 302,
   "metadata": {
    "collapsed": false
   },
   "outputs": [],
   "source": [
    "create_output(lstm_res[:,1], 'charRNN_for_fun_32_1_epoch(GRU).txt')"
   ]
  }
 ],
 "metadata": {
  "kernelspec": {
   "display_name": "py3.4",
   "language": "python",
   "name": "py3.4"
  },
  "language_info": {
   "codemirror_mode": {
    "name": "ipython",
    "version": 3
   },
   "file_extension": ".py",
   "mimetype": "text/x-python",
   "name": "python",
   "nbconvert_exporter": "python",
   "pygments_lexer": "ipython3",
   "version": "3.4.1"
  }
 },
 "nbformat": 4,
 "nbformat_minor": 1
}
